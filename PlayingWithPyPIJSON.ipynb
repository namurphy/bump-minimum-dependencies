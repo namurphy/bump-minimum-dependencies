{
 "cells": [
  {
   "cell_type": "code",
   "execution_count": 4,
   "id": "aebb840b-3a6e-4d2d-aee4-8e0f9fc3a743",
   "metadata": {},
   "outputs": [],
   "source": [
    "import requests\n",
    "from packaging.version import Version\n",
    "from astropy.time import Time\n",
    "import numpy as np\n",
    "from pprint import pprint"
   ]
  },
  {
   "cell_type": "code",
   "execution_count": 83,
   "id": "6bc5d609-df0f-4155-9e6a-19e0fe149fea",
   "metadata": {},
   "outputs": [
    {
     "ename": "KeyError",
     "evalue": "'releases'",
     "output_type": "error",
     "traceback": [
      "\u001b[31m---------------------------------------------------------------------------\u001b[39m",
      "\u001b[31mKeyError\u001b[39m                                  Traceback (most recent call last)",
      "\u001b[36mCell\u001b[39m\u001b[36m \u001b[39m\u001b[32mIn[83]\u001b[39m\u001b[32m, line 4\u001b[39m\n\u001b[32m      2\u001b[39m url = \u001b[33mf\u001b[39m\u001b[33m\"\u001b[39m\u001b[33mhttps://pypi.org/pypi/\u001b[39m\u001b[38;5;132;01m{\u001b[39;00mpackage\u001b[38;5;132;01m}\u001b[39;00m\u001b[33m/json\u001b[39m\u001b[33m\"\u001b[39m\n\u001b[32m      3\u001b[39m response = requests.get(url)\n\u001b[32m----> \u001b[39m\u001b[32m4\u001b[39m releases_data = \u001b[43mresponse\u001b[49m\u001b[43m.\u001b[49m\u001b[43mjson\u001b[49m\u001b[43m(\u001b[49m\u001b[43m)\u001b[49m\u001b[43m[\u001b[49m\u001b[33;43m\"\u001b[39;49m\u001b[33;43mreleases\u001b[39;49m\u001b[33;43m\"\u001b[39;49m\u001b[43m]\u001b[49m\n",
      "\u001b[31mKeyError\u001b[39m: 'releases'"
     ]
    }
   ],
   "source": [
    "package = \"metomi‑isodatetime\"\n",
    "url = f\"https://pypi.org/pypi/{package}/json\"\n",
    "response = requests.get(url)\n",
    "releases_data = response.json()[\"releases\"]"
   ]
  },
  {
   "cell_type": "code",
   "execution_count": 28,
   "id": "7a463931-c0bb-4db4-9d7a-e0148d1e4010",
   "metadata": {},
   "outputs": [],
   "source": [
    "releases: dict[str, dict[str, Time | int]] = {}\n",
    "\n",
    "for release in releases_data:\n",
    "    release_data = releases_data[release]\n",
    "\n",
    "    if not release_data:\n",
    "        continue\n",
    "\n",
    "    version = Version(release)\n",
    "    if version.is_prerelease:\n",
    "        continue\n",
    "\n",
    "    # keep yanked releases for now\n",
    "    # if release_data[0][\"yanked\"]: continue\n",
    "\n",
    "    releases[version] = {\n",
    "        \"upload_time\": Time(releases_data[release][0][\"upload_time\"]),\n",
    "        \"major\": version.major,\n",
    "        \"minor\": version.minor,\n",
    "        \"micro\": version.micro,\n",
    "    }"
   ]
  },
  {
   "cell_type": "code",
   "execution_count": 32,
   "id": "53af2751-d918-4218-b0a0-41591e09e6c4",
   "metadata": {},
   "outputs": [
    {
     "name": "stdout",
     "output_type": "stream",
     "text": [
      "{(0, 1): {0, 1}, (0, 2): {0}, (0, 3): {0, 1}, (0, 4): {0}, (0, 5): {0}, (0, 6): {0}, (0, 7): {0}, (0, 8): {1}, (0, 9): {0, 1}, (2023, 1): {0}, (2023, 10): {0}, (2023, 5): {0, 1}, (2024, 10): {0}, (2024, 2): {0}, (2024, 5): {0}, (2024, 7): {0}, (2025, 10): {0}, (2025, 8): {0}}\n"
     ]
    }
   ],
   "source": [
    "major_minor_dict: dict[tuple[int, int], set[int]] = {}\n",
    "\n",
    "for version in releases:\n",
    "    major = releases[version][\"major\"]\n",
    "    minor = releases[version][\"minor\"]\n",
    "    micro = releases[version][\"micro\"]\n",
    "\n",
    "    if (major, minor) not in major_minor_dict:\n",
    "        major_minor_dict[(major, minor)] = {micro}\n",
    "    else:\n",
    "        major_minor_dict[(major, minor)] |= {micro}\n",
    "\n",
    "print(major_minor_dict)"
   ]
  },
  {
   "cell_type": "code",
   "execution_count": 39,
   "id": "4415c8a4-f517-44a8-b5e8-abd57c0c1280",
   "metadata": {},
   "outputs": [
    {
     "name": "stdout",
     "output_type": "stream",
     "text": [
      "['0.1.0', '0.2.0', '0.3.0', '0.4.0', '0.5.0', '0.6.0', '0.7.0', '0.8.1', '0.9.0', '2023.1.0', '2023.10.0', '2023.5.0', '2024.10.0', '2024.2.0', '2024.5.0', '2024.7.0', '2025.10.0', '2025.8.0']\n"
     ]
    }
   ],
   "source": [
    "minor_releases = []\n",
    "\n",
    "for (major, minor), s in major_minor_dict.items():\n",
    "    minor_releases.append(f\"{major}.{minor}.{min(s)}\")\n",
    "print(minor_releases)"
   ]
  },
  {
   "cell_type": "code",
   "execution_count": 146,
   "id": "c9527324-fda2-4799-b266-e0f682fcf4e0",
   "metadata": {},
   "outputs": [
    {
     "name": "stdout",
     "output_type": "stream",
     "text": [
      "{<Version('0.1.1')>: 89.7315790375838,\n",
      " <Version('0.2.0')>: 77.52473942938056,\n",
      " <Version('0.3.1')>: 69.39710207094772,\n",
      " <Version('0.4.0')>: 63.74121746733586,\n",
      " <Version('0.5.0')>: 59.0804782570512,\n",
      " <Version('0.6.0')>: 55.94495637152931,\n",
      " <Version('0.7.0')>: 47.71938474618495,\n",
      " <Version('0.8.1')>: 40.161376634767755,\n",
      " <Version('0.9.1')>: 35.7408149573879,\n",
      " <Version('2023.1.0')>: 33.795392168896925,\n",
      " <Version('2023.5.1')>: 28.988269426319633,\n",
      " <Version('2023.10.0')>: 24.529331945450338,\n",
      " <Version('2024.2.0')>: 20.95660275965297,\n",
      " <Version('2024.5.0')>: 17.88563053743075,\n",
      " <Version('2024.7.0')>: 15.470159922187404,\n",
      " <Version('2024.10.0')>: 12.130642015851315,\n",
      " <Version('2025.8.0')>: 2.8128860470726202,\n",
      " <Version('2025.10.0')>: 0.2278768643361647}\n",
      "<Version('2024.2.0')>\n"
     ]
    }
   ],
   "source": [
    "import functools\n",
    "\n",
    "\n",
    "class Package:\n",
    "    def __init__(self, name: str):\n",
    "        self.name = name\n",
    "        url = f\"https://pypi.org/pypi/{self.name}/json\"\n",
    "        response = requests.get(url)\n",
    "        self.data = response.json()[\"releases\"]\n",
    "        self.now = Time.now()\n",
    "\n",
    "    @functools.cached_property\n",
    "    def releases(self) -> list[Version]:\n",
    "        \"\"\"All releases of the package, excluding prereleases.\"\"\"\n",
    "        # epochs are included in the version string, e.g., \"1!2025.9.0\" to \"2!1.0.0\".\n",
    "        # `Version` is able to handle these rare cases, so we do not need to do anything\n",
    "        # special.  The `cabinet` package is an example on PyPI where epochs are used.\n",
    "\n",
    "        all_releases: list[str] = sorted(self.data.keys())\n",
    "\n",
    "        return sorted(\n",
    "            [\n",
    "                Version(release)\n",
    "                for release in all_releases\n",
    "                if not Version(release).is_prerelease\n",
    "            ]\n",
    "        )\n",
    "\n",
    "    @functools.cached_property\n",
    "    def release_times(self) -> dict[str, Time]:\n",
    "        return {\n",
    "            release: Time(self.data[str(release)][0][\"upload_time\"])\n",
    "            for release in self.releases\n",
    "        }\n",
    "\n",
    "    @functools.cached_property\n",
    "    def _epoch_major_minor_dict(self) -> dict[tuple[int, int, int], set[int]]:\n",
    "        \"\"\"\n",
    "        Dictionary where the key is a tuple of the major and minor version numbers,\n",
    "        and\n",
    "        \"\"\"\n",
    "        epoch_major_minor_dict = {}\n",
    "\n",
    "        for version in self.releases:\n",
    "            epoch = version.epoch\n",
    "            major = version.major\n",
    "            minor = version.minor\n",
    "            micro = version.micro\n",
    "\n",
    "            if (epoch, major, minor) not in major_minor_dict:\n",
    "                epoch_major_minor_dict[(epoch, major, minor)] = {micro}\n",
    "            else:\n",
    "                epoch_major_minor_dict[(epoch, major, minor)] |= {micro}\n",
    "\n",
    "        return epoch_major_minor_dict\n",
    "\n",
    "    @functools.cached_property\n",
    "    def minor_releases(self) -> list[str]:\n",
    "        \"\"\"The first release of each major/minor pair.\"\"\"\n",
    "        minor_releases = []\n",
    "        for (epoch, major, minor), micros in self._epoch_major_minor_dict.items():\n",
    "            minor_releases.append(Version(f\"{epoch}!{major}.{minor}.{min(micros)}\"))\n",
    "        return sorted(minor_releases)\n",
    "\n",
    "    @functools.cached_property\n",
    "    def months_since_minor_release(self):\n",
    "        return {\n",
    "            release: float(\n",
    "                (self.now - self.release_times[release]).to_value(\"jd\") / 30.25\n",
    "            )\n",
    "            for release in self.minor_releases\n",
    "        }\n",
    "\n",
    "    def last_supported_release(self, months=24, buffer=3):\n",
    "        releases = list(self.months_since_minor_release.keys())\n",
    "        months_since_release = np.array(list(self.months_since_minor_release.values()))\n",
    "\n",
    "        # get index of the first release that occurred in the last 24 months\n",
    "        index = next(\n",
    "            (\n",
    "                i\n",
    "                for i, months_ago in enumerate(months_since_release)\n",
    "                if months_ago < months\n",
    "            ),\n",
    "            -1,\n",
    "        )\n",
    "\n",
    "        months_ago = months_since_release[index]\n",
    "\n",
    "        if months_ago < buffer and index > 0:\n",
    "            index -= 1\n",
    "\n",
    "        return releases[index]\n",
    "\n",
    "\n",
    "p = Package(\"plasmapy\")\n",
    "# print(p.releases)\n",
    "# print(p._major_minor_dict)\n",
    "# print(p.releases)\n",
    "pprint(p.months_since_minor_release)\n",
    "pprint(p.last_supported_release())"
   ]
  },
  {
   "cell_type": "markdown",
   "id": "3016e5c2-1555-4f4b-ba50-a842632500e3",
   "metadata": {},
   "source": [
    "### p.data"
   ]
  },
  {
   "cell_type": "code",
   "execution_count": null,
   "id": "bd27f9c7-e8ad-4f2a-8794-61950a0160d7",
   "metadata": {},
   "outputs": [],
   "source": []
  },
  {
   "cell_type": "code",
   "execution_count": null,
   "id": "daee4315-21e9-4c4c-92d9-3bc665c54ac8",
   "metadata": {},
   "outputs": [],
   "source": []
  },
  {
   "cell_type": "code",
   "execution_count": null,
   "id": "489fd68a-7463-4fd5-8580-fdb09d8055e5",
   "metadata": {},
   "outputs": [],
   "source": []
  },
  {
   "cell_type": "code",
   "execution_count": null,
   "id": "dcf22d18-df40-4f85-9c4a-9b32214a205a",
   "metadata": {},
   "outputs": [],
   "source": []
  },
  {
   "cell_type": "code",
   "execution_count": null,
   "id": "bd96e596-7e86-45fe-9528-24908ff77f52",
   "metadata": {},
   "outputs": [],
   "source": []
  }
 ],
 "metadata": {
  "kernelspec": {
   "display_name": "Python 3 (ipykernel)",
   "language": "python",
   "name": "python3"
  },
  "language_info": {
   "codemirror_mode": {
    "name": "ipython",
    "version": 3
   },
   "file_extension": ".py",
   "mimetype": "text/x-python",
   "name": "python",
   "nbconvert_exporter": "python",
   "pygments_lexer": "ipython3",
   "version": "3.14.0"
  }
 },
 "nbformat": 4,
 "nbformat_minor": 5
}
