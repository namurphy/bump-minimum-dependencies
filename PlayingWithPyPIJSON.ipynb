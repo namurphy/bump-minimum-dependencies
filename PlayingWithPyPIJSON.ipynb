{
 "cells": [
  {
   "cell_type": "code",
   "execution_count": 92,
   "id": "aebb840b-3a6e-4d2d-aee4-8e0f9fc3a743",
   "metadata": {},
   "outputs": [],
   "source": [
    "import requests\n",
    "from packaging.requirements import Requirement\n",
    "from packaging.version import Version\n",
    "from astropy.time import Time, TimeDelta"
   ]
  },
  {
   "cell_type": "code",
   "execution_count": 116,
   "id": "7a463931-c0bb-4db4-9d7a-e0148d1e4010",
   "metadata": {},
   "outputs": [
    {
     "name": "stdout",
     "output_type": "stream",
     "text": [
      "{'upload_time': <Time object: scale='utc' format='isot' value=2018-04-30T03:18:36.000>, 'major': 0, 'minor': 1, 'micro': 0}\n",
      "{'upload_time': <Time object: scale='utc' format='isot' value=2018-05-27T14:17:43.000>, 'major': 0, 'minor': 1, 'micro': 1}\n",
      "{'upload_time': <Time object: scale='utc' format='isot' value=2019-05-31T20:27:39.000>, 'major': 0, 'minor': 2, 'micro': 0}\n",
      "{'upload_time': <Time object: scale='utc' format='isot' value=2020-01-26T15:09:44.000>, 'major': 0, 'minor': 3, 'micro': 0}\n",
      "{'upload_time': <Time object: scale='utc' format='isot' value=2020-02-01T17:07:32.000>, 'major': 0, 'minor': 3, 'micro': 1}\n",
      "{'upload_time': <Time object: scale='utc' format='isot' value=2020-07-21T19:17:52.000>, 'major': 0, 'minor': 4, 'micro': 0}\n",
      "{'upload_time': <Time object: scale='utc' format='isot' value=2020-12-09T18:59:40.000>, 'major': 0, 'minor': 5, 'micro': 0}\n",
      "{'upload_time': <Time object: scale='utc' format='isot' value=2021-03-14T15:23:00.000>, 'major': 0, 'minor': 6, 'micro': 0}\n",
      "{'upload_time': <Time object: scale='utc' format='isot' value=2021-11-18T11:08:54.000>, 'major': 0, 'minor': 7, 'micro': 0}\n",
      "{'upload_time': <Time object: scale='utc' format='isot' value=2022-07-05T02:15:44.000>, 'major': 0, 'minor': 8, 'micro': 1}\n",
      "{'upload_time': <Time object: scale='utc' format='isot' value=2022-11-11T15:49:42.000>, 'major': 0, 'minor': 9, 'micro': 0}\n",
      "{'upload_time': <Time object: scale='utc' format='isot' value=2022-11-15T19:35:24.000>, 'major': 0, 'minor': 9, 'micro': 1}\n",
      "{'upload_time': <Time object: scale='utc' format='isot' value=2023-01-13T15:58:01.000>, 'major': 2023, 'minor': 1, 'micro': 0}\n",
      "{'upload_time': <Time object: scale='utc' format='isot' value=2023-10-20T23:07:36.000>, 'major': 2023, 'minor': 10, 'micro': 0}\n",
      "{'upload_time': <Time object: scale='utc' format='isot' value=2023-05-31T18:54:09.000>, 'major': 2023, 'minor': 5, 'micro': 0}\n",
      "{'upload_time': <Time object: scale='utc' format='isot' value=2023-06-08T01:56:17.000>, 'major': 2023, 'minor': 5, 'micro': 1}\n",
      "{'upload_time': <Time object: scale='utc' format='isot' value=2024-10-30T00:34:32.000>, 'major': 2024, 'minor': 10, 'micro': 0}\n",
      "{'upload_time': <Time object: scale='utc' format='isot' value=2024-02-06T00:55:41.000>, 'major': 2024, 'minor': 2, 'micro': 0}\n",
      "{'upload_time': <Time object: scale='utc' format='isot' value=2024-05-08T22:27:14.000>, 'major': 2024, 'minor': 5, 'micro': 0}\n",
      "{'upload_time': <Time object: scale='utc' format='isot' value=2024-07-21T00:05:08.000>, 'major': 2024, 'minor': 7, 'micro': 0}\n",
      "{'upload_time': <Time object: scale='utc' format='isot' value=2025-10-25T01:58:59.000>, 'major': 2025, 'minor': 10, 'micro': 0}\n",
      "{'upload_time': <Time object: scale='utc' format='isot' value=2025-08-07T21:15:59.000>, 'major': 2025, 'minor': 8, 'micro': 0}\n"
     ]
    }
   ],
   "source": [
    "package = \"plasmapy\"\n",
    "url = f\"https://pypi.org/pypi/{package}/json\"\n",
    "response = requests.get(url)\n",
    "releases_data = response.json()[\"releases\"]\n",
    "\n",
    "releases = {}\n",
    "for release in releases_data:\n",
    "    release_data = releases_data[release]\n",
    "    \n",
    "    yanked = release_data[0][\"yanked\"]\n",
    "\n",
    "    version = Version(release)    \n",
    "    prerelease = version.is_prerelease\n",
    "    \n",
    "    if yanked or prerelease:\n",
    "        continue\n",
    "    \n",
    "    releases[version] = {\n",
    "        \"upload_time\": Time(releases_data[release][0][\"upload_time\"]),\n",
    "        \"major\": version.major,\n",
    "        \"minor\": version.minor,\n",
    "        \"micro\": version.micro,\n",
    "    }\n",
    "\n",
    "    print(releases[version])\n"
   ]
  },
  {
   "cell_type": "code",
   "execution_count": null,
   "id": "4415c8a4-f517-44a8-b5e8-abd57c0c1280",
   "metadata": {},
   "outputs": [],
   "source": []
  },
  {
   "cell_type": "code",
   "execution_count": null,
   "id": "c9527324-fda2-4799-b266-e0f682fcf4e0",
   "metadata": {},
   "outputs": [],
   "source": []
  },
  {
   "cell_type": "code",
   "execution_count": 104,
   "id": "bd27f9c7-e8ad-4f2a-8794-61950a0160d7",
   "metadata": {},
   "outputs": [
    {
     "ename": "KeyError",
     "evalue": "'2025.10.0'",
     "output_type": "error",
     "traceback": [
      "\u001b[31m---------------------------------------------------------------------------\u001b[39m",
      "\u001b[31mKeyError\u001b[39m                                  Traceback (most recent call last)",
      "\u001b[36mCell\u001b[39m\u001b[36m \u001b[39m\u001b[32mIn[104]\u001b[39m\u001b[32m, line 1\u001b[39m\n\u001b[32m----> \u001b[39m\u001b[32m1\u001b[39m \u001b[43mreleases\u001b[49m\u001b[43m[\u001b[49m\u001b[33;43m\"\u001b[39;49m\u001b[33;43m2025.10.0\u001b[39;49m\u001b[33;43m\"\u001b[39;49m\u001b[43m]\u001b[49m\n",
      "\u001b[31mKeyError\u001b[39m: '2025.10.0'"
     ]
    }
   ],
   "source": []
  },
  {
   "cell_type": "code",
   "execution_count": null,
   "id": "daee4315-21e9-4c4c-92d9-3bc665c54ac8",
   "metadata": {},
   "outputs": [],
   "source": [
    "r = Requirement(\"plasmapy>1\")"
   ]
  },
  {
   "cell_type": "code",
   "execution_count": null,
   "id": "489fd68a-7463-4fd5-8580-fdb09d8055e5",
   "metadata": {},
   "outputs": [],
   "source": [
    "import dep_logic\n",
    "from dep_logic import specifiers, markers"
   ]
  },
  {
   "cell_type": "code",
   "execution_count": null,
   "id": "dcf22d18-df40-4f85-9c4a-9b32214a205a",
   "metadata": {},
   "outputs": [],
   "source": []
  },
  {
   "cell_type": "code",
   "execution_count": null,
   "id": "bd96e596-7e86-45fe-9528-24908ff77f52",
   "metadata": {},
   "outputs": [],
   "source": []
  }
 ],
 "metadata": {
  "kernelspec": {
   "display_name": "Python 3 (ipykernel)",
   "language": "python",
   "name": "python3"
  },
  "language_info": {
   "codemirror_mode": {
    "name": "ipython",
    "version": 3
   },
   "file_extension": ".py",
   "mimetype": "text/x-python",
   "name": "python",
   "nbconvert_exporter": "python",
   "pygments_lexer": "ipython3",
   "version": "3.14.0"
  }
 },
 "nbformat": 4,
 "nbformat_minor": 5
}
